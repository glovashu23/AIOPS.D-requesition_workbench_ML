{
 "cells": [
  {
   "cell_type": "code",
   "execution_count": 2,
   "metadata": {
    "tags": []
   },
   "outputs": [],
   "source": [
    "import code_variables\n",
    "import boto3\n",
    "import sagemaker\n",
    "from sentence_transformers import SentenceTransformer\n",
    "import pandas as pd\n",
    "import string\n",
    "import time\n",
    "from tqdm import tqdm\n",
    "import os"
   ]
  },
  {
   "cell_type": "code",
   "execution_count": 3,
   "metadata": {
    "tags": []
   },
   "outputs": [],
   "source": [
    "role=sagemaker.get_execution_role()\n",
    "sagemaker_session=sagemaker.session.Session()\n",
    "sagemaker_session.download_data('/root/Non_pipeline_implementation',code_variables.bucket_name,code_variables.file_name)"
   ]
  },
  {
   "cell_type": "code",
   "execution_count": 4,
   "metadata": {
    "scrolled": true,
    "tags": []
   },
   "outputs": [],
   "source": [
    "model=SentenceTransformer('sentence-transformers/paraphrase-TinyBERT-L6-v2')"
   ]
  },
  {
   "cell_type": "code",
   "execution_count": 5,
   "metadata": {
    "tags": []
   },
   "outputs": [],
   "source": [
    "dataset=pd.read_csv('Catalog2.csv',sep='|')"
   ]
  },
  {
   "cell_type": "code",
   "execution_count": 6,
   "metadata": {
    "tags": []
   },
   "outputs": [
    {
     "data": {
      "text/html": [
       "<div>\n",
       "<style scoped>\n",
       "    .dataframe tbody tr th:only-of-type {\n",
       "        vertical-align: middle;\n",
       "    }\n",
       "\n",
       "    .dataframe tbody tr th {\n",
       "        vertical-align: top;\n",
       "    }\n",
       "\n",
       "    .dataframe thead th {\n",
       "        text-align: right;\n",
       "    }\n",
       "</style>\n",
       "<table border=\"1\" class=\"dataframe\">\n",
       "  <thead>\n",
       "    <tr style=\"text-align: right;\">\n",
       "      <th></th>\n",
       "      <th>material_description</th>\n",
       "      <th>purchase_requisition_number</th>\n",
       "      <th>line_type</th>\n",
       "      <th>commodity_code</th>\n",
       "      <th>cost_center</th>\n",
       "      <th>purchase_order_number</th>\n",
       "      <th>currency</th>\n",
       "      <th>vendor_number</th>\n",
       "      <th>purchasing_organization_description</th>\n",
       "      <th>supplier_name_l1</th>\n",
       "      <th>item_number_of_purchase_requisition</th>\n",
       "      <th>requisition_date</th>\n",
       "      <th>supplier_part_number</th>\n",
       "    </tr>\n",
       "  </thead>\n",
       "  <tbody>\n",
       "    <tr>\n",
       "      <th>0</th>\n",
       "      <td>ASUS valve 4GB RAM</td>\n",
       "      <td>PR5762</td>\n",
       "      <td>Catalog Item</td>\n",
       "      <td>Not Set</td>\n",
       "      <td>0000001000</td>\n",
       "      <td>Not Set</td>\n",
       "      <td>USD</td>\n",
       "      <td>[Unspecified]</td>\n",
       "      <td>Not Set</td>\n",
       "      <td>[Unspecified]</td>\n",
       "      <td>1</td>\n",
       "      <td>25 Feb 2018</td>\n",
       "      <td>Not Set</td>\n",
       "    </tr>\n",
       "    <tr>\n",
       "      <th>1</th>\n",
       "      <td>Service from Contract_2_SS</td>\n",
       "      <td>PR14117</td>\n",
       "      <td>Catalog Item</td>\n",
       "      <td>Not Set</td>\n",
       "      <td>ZCCH10</td>\n",
       "      <td>Not Set</td>\n",
       "      <td>USD</td>\n",
       "      <td>3200000040</td>\n",
       "      <td>Not Set</td>\n",
       "      <td>Mediacom</td>\n",
       "      <td>2</td>\n",
       "      <td>09 Mar 2020</td>\n",
       "      <td>Not Set</td>\n",
       "    </tr>\n",
       "    <tr>\n",
       "      <th>2</th>\n",
       "      <td>Service from Contract_2_SS</td>\n",
       "      <td>PR14118</td>\n",
       "      <td>Catalog Item</td>\n",
       "      <td>Not Set</td>\n",
       "      <td>ZCCH10</td>\n",
       "      <td>Not Set</td>\n",
       "      <td>USD</td>\n",
       "      <td>3200000040</td>\n",
       "      <td>Not Set</td>\n",
       "      <td>Mediacom</td>\n",
       "      <td>2</td>\n",
       "      <td>09 Mar 2020</td>\n",
       "      <td>Not Set</td>\n",
       "    </tr>\n",
       "    <tr>\n",
       "      <th>3</th>\n",
       "      <td>Service from Contract_2_SS</td>\n",
       "      <td>PR14567</td>\n",
       "      <td>Catalog Item</td>\n",
       "      <td>Not Set</td>\n",
       "      <td>ZCCH10</td>\n",
       "      <td>Not Set</td>\n",
       "      <td>USD</td>\n",
       "      <td>3200000040</td>\n",
       "      <td>Not Set</td>\n",
       "      <td>Mediacom</td>\n",
       "      <td>2</td>\n",
       "      <td>27 Mar 2020</td>\n",
       "      <td>Not Set</td>\n",
       "    </tr>\n",
       "    <tr>\n",
       "      <th>4</th>\n",
       "      <td>Pentium Processor</td>\n",
       "      <td>PR17493</td>\n",
       "      <td>Catalog Item</td>\n",
       "      <td>Not Set</td>\n",
       "      <td>Not Set</td>\n",
       "      <td>Not Set</td>\n",
       "      <td>USD</td>\n",
       "      <td>3200000040</td>\n",
       "      <td>Not Set</td>\n",
       "      <td>Mediacom</td>\n",
       "      <td>1</td>\n",
       "      <td>11 Jan 2021</td>\n",
       "      <td>Not Set</td>\n",
       "    </tr>\n",
       "  </tbody>\n",
       "</table>\n",
       "</div>"
      ],
      "text/plain": [
       "         material_description purchase_requisition_number     line_type  \\\n",
       "0          ASUS valve 4GB RAM                      PR5762  Catalog Item   \n",
       "1  Service from Contract_2_SS                     PR14117  Catalog Item   \n",
       "2  Service from Contract_2_SS                     PR14118  Catalog Item   \n",
       "3  Service from Contract_2_SS                     PR14567  Catalog Item   \n",
       "4           Pentium Processor                     PR17493  Catalog Item   \n",
       "\n",
       "  commodity_code cost_center purchase_order_number currency  vendor_number  \\\n",
       "0        Not Set  0000001000               Not Set      USD  [Unspecified]   \n",
       "1        Not Set      ZCCH10               Not Set      USD     3200000040   \n",
       "2        Not Set      ZCCH10               Not Set      USD     3200000040   \n",
       "3        Not Set      ZCCH10               Not Set      USD     3200000040   \n",
       "4        Not Set     Not Set               Not Set      USD     3200000040   \n",
       "\n",
       "  purchasing_organization_description supplier_name_l1  \\\n",
       "0                             Not Set    [Unspecified]   \n",
       "1                             Not Set         Mediacom   \n",
       "2                             Not Set         Mediacom   \n",
       "3                             Not Set         Mediacom   \n",
       "4                             Not Set         Mediacom   \n",
       "\n",
       "   item_number_of_purchase_requisition requisition_date supplier_part_number  \n",
       "0                                    1      25 Feb 2018              Not Set  \n",
       "1                                    2      09 Mar 2020              Not Set  \n",
       "2                                    2      09 Mar 2020              Not Set  \n",
       "3                                    2      27 Mar 2020              Not Set  \n",
       "4                                    1      11 Jan 2021              Not Set  "
      ]
     },
     "execution_count": 6,
     "metadata": {},
     "output_type": "execute_result"
    }
   ],
   "source": [
    "dataset.head()"
   ]
  },
  {
   "cell_type": "code",
   "execution_count": 7,
   "metadata": {
    "tags": []
   },
   "outputs": [
    {
     "data": {
      "text/plain": [
       "Index(['material_description', 'purchase_requisition_number', 'line_type',\n",
       "       'commodity_code', 'cost_center', 'purchase_order_number', 'currency',\n",
       "       'vendor_number', 'purchasing_organization_description',\n",
       "       'supplier_name_l1', 'item_number_of_purchase_requisition',\n",
       "       'requisition_date', 'supplier_part_number'],\n",
       "      dtype='object')"
      ]
     },
     "execution_count": 7,
     "metadata": {},
     "output_type": "execute_result"
    }
   ],
   "source": [
    "dataset.columns"
   ]
  },
  {
   "cell_type": "code",
   "execution_count": 8,
   "metadata": {
    "tags": []
   },
   "outputs": [
    {
     "data": {
      "text/plain": [
       "(28767, 13)"
      ]
     },
     "execution_count": 8,
     "metadata": {},
     "output_type": "execute_result"
    }
   ],
   "source": [
    "dataset.shape"
   ]
  },
  {
   "cell_type": "code",
   "execution_count": 9,
   "metadata": {
    "tags": []
   },
   "outputs": [],
   "source": [
    "dataset=dataset.drop_duplicates(subset=['material_description'], keep='last').dropna().reset_index(drop = True)"
   ]
  },
  {
   "cell_type": "code",
   "execution_count": 10,
   "metadata": {
    "tags": []
   },
   "outputs": [
    {
     "data": {
      "text/plain": [
       "(21112, 13)"
      ]
     },
     "execution_count": 10,
     "metadata": {},
     "output_type": "execute_result"
    }
   ],
   "source": [
    "dataset.shape"
   ]
  },
  {
   "cell_type": "code",
   "execution_count": 11,
   "metadata": {
    "tags": []
   },
   "outputs": [
    {
     "name": "stderr",
     "output_type": "stream",
     "text": [
      "100%|██████████| 21112/21112 [26:28<00:00, 13.29it/s]\n"
     ]
    }
   ],
   "source": [
    "embeds=[]\n",
    "for desc in tqdm(dataset['material_description']):\n",
    "    embeds.append(model.encode(desc))"
   ]
  },
  {
   "cell_type": "code",
   "execution_count": 12,
   "metadata": {
    "tags": []
   },
   "outputs": [],
   "source": [
    "dataset['embeddings']=embeds"
   ]
  },
  {
   "cell_type": "code",
   "execution_count": 14,
   "metadata": {
    "tags": []
   },
   "outputs": [],
   "source": [
    "dataset.to_csv(code_variables.embed_file,index=False)"
   ]
  },
  {
   "cell_type": "code",
   "execution_count": 15,
   "metadata": {
    "tags": []
   },
   "outputs": [
    {
     "data": {
      "text/plain": [
       "'s3://aiops.d-aiml-315952988300-us-east-2/data/catalog_embeds.csv'"
      ]
     },
     "execution_count": 15,
     "metadata": {},
     "output_type": "execute_result"
    }
   ],
   "source": [
    "sagemaker_session.upload_data(code_variables.embed_file,key_prefix='data',bucket=code_variables.bucket_name)"
   ]
  },
  {
   "cell_type": "code",
   "execution_count": null,
   "metadata": {},
   "outputs": [],
   "source": []
  },
  {
   "cell_type": "code",
   "execution_count": null,
   "metadata": {},
   "outputs": [],
   "source": []
  }
 ],
 "metadata": {
  "instance_type": "ml.t3.large",
  "kernelspec": {
   "display_name": "Python 3 (Data Science)",
   "language": "python",
   "name": "python3__SAGEMAKER_INTERNAL__arn:aws:sagemaker:us-east-2:429704687514:image/datascience-1.0"
  },
  "language_info": {
   "codemirror_mode": {
    "name": "ipython",
    "version": 3
   },
   "file_extension": ".py",
   "mimetype": "text/x-python",
   "name": "python",
   "nbconvert_exporter": "python",
   "pygments_lexer": "ipython3",
   "version": "3.7.10"
  }
 },
 "nbformat": 4,
 "nbformat_minor": 4
}
